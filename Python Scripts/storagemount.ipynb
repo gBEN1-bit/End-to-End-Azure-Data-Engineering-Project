{
 "cells": [
  {
   "cell_type": "code",
   "execution_count": 0,
   "metadata": {
    "application/vnd.databricks.v1+cell": {
     "cellMetadata": {
      "byteLimit": 2048000,
      "rowLimit": 10000
     },
     "inputWidgets": {},
     "nuid": "04eb0903-464a-441b-9a52-6d0e96318f66",
     "showTitle": false,
     "title": ""
    }
   },
   "outputs": [
    {
     "output_type": "stream",
     "name": "stdout",
     "output_type": "stream",
     "text": [
      "Out[1]: True"
     ]
    }
   ],
   "source": [
    "configs = {\n",
    "  \"fs.azure.account.auth.type\": \"CustomAccessToken\",\n",
    "  \"fs.azure.account.custom.token.provider.class\": spark.conf.get(\"spark.databricks.passthrough.adls.gen2.tokenProviderClassName\")\n",
    "}\n",
    "\n",
    "# Optionally, you can add <directory-name> to the source URI of your mount point.\n",
    "dbutils.fs.mount(\n",
    "  source = \"abfss://as-is-staging@gbdatalakegen2.dfs.core.windows.net/\",\n",
    "  mount_point = \"/mnt/as-is-staging\",\n",
    "  extra_configs = configs)"
   ]
  },
  {
   "cell_type": "code",
   "execution_count": 0,
   "metadata": {
    "application/vnd.databricks.v1+cell": {
     "cellMetadata": {
      "byteLimit": 2048000,
      "rowLimit": 10000
     },
     "inputWidgets": {},
     "nuid": "8e74f1bf-b32e-47dd-bbfc-945bf7705e95",
     "showTitle": false,
     "title": ""
    }
   },
   "outputs": [
    {
     "output_type": "stream",
     "name": "stdout",
     "output_type": "stream",
     "text": [
      "Out[3]: [FileInfo(path='dbfs:/mnt/as-is-staging/SalesLT/Address/', name='Address/', size=0, modificationTime=1726233664000),\n FileInfo(path='dbfs:/mnt/as-is-staging/SalesLT/Customer/', name='Customer/', size=0, modificationTime=1726233664000),\n FileInfo(path='dbfs:/mnt/as-is-staging/SalesLT/CustomerAddress/', name='CustomerAddress/', size=0, modificationTime=1726233667000),\n FileInfo(path='dbfs:/mnt/as-is-staging/SalesLT/Product/', name='Product/', size=0, modificationTime=1726233661000),\n FileInfo(path='dbfs:/mnt/as-is-staging/SalesLT/ProductCategory/', name='ProductCategory/', size=0, modificationTime=1726233679000),\n FileInfo(path='dbfs:/mnt/as-is-staging/SalesLT/ProductDescription/', name='ProductDescription/', size=0, modificationTime=1726233680000),\n FileInfo(path='dbfs:/mnt/as-is-staging/SalesLT/ProductModel/', name='ProductModel/', size=0, modificationTime=1726233663000),\n FileInfo(path='dbfs:/mnt/as-is-staging/SalesLT/ProductModelProductDescription/', name='ProductModelProductDescription/', size=0, modificationTime=1726233668000),\n FileInfo(path='dbfs:/mnt/as-is-staging/SalesLT/SalesOrderDetail/', name='SalesOrderDetail/', size=0, modificationTime=1726233661000),\n FileInfo(path='dbfs:/mnt/as-is-staging/SalesLT/SalesOrderHeader/', name='SalesOrderHeader/', size=0, modificationTime=1726233678000)]"
     ]
    }
   ],
   "source": [
    "dbutils.fs.ls(\"/mnt/as-is-staging/SalesLT\")"
   ]
  },
  {
   "cell_type": "code",
   "execution_count": 0,
   "metadata": {
    "application/vnd.databricks.v1+cell": {
     "cellMetadata": {
      "byteLimit": 2048000,
      "rowLimit": 10000
     },
     "inputWidgets": {},
     "nuid": "7541da68-1841-4aa6-8ff6-847c4367eca3",
     "showTitle": false,
     "title": ""
    }
   },
   "outputs": [
    {
     "output_type": "stream",
     "name": "stdout",
     "output_type": "stream",
     "text": [
      "Out[1]: True"
     ]
    }
   ],
   "source": [
    "configs = {\n",
    "  \"fs.azure.account.auth.type\": \"CustomAccessToken\",\n",
    "  \"fs.azure.account.custom.token.provider.class\": spark.conf.get(\"spark.databricks.passthrough.adls.gen2.tokenProviderClassName\")\n",
    "}\n",
    "\n",
    "# Optionally, you can add <directory-name> to the source URI of your mount point.\n",
    "dbutils.fs.mount(\n",
    "  source = \"abfss://firstleveltransformation@gbdatalakegen2.dfs.core.windows.net/\",\n",
    "  mount_point = \"/mnt/firstleveltransformation\",\n",
    "  extra_configs = configs)"
   ]
  },
  {
   "cell_type": "code",
   "execution_count": 0,
   "metadata": {
    "application/vnd.databricks.v1+cell": {
     "cellMetadata": {
      "byteLimit": 2048000,
      "rowLimit": 10000
     },
     "inputWidgets": {},
     "nuid": "d3411fcc-520a-4da4-b519-f920bffc4d96",
     "showTitle": false,
     "title": ""
    }
   },
   "outputs": [
    {
     "output_type": "stream",
     "name": "stdout",
     "output_type": "stream",
     "text": [
      "Out[1]: True"
     ]
    }
   ],
   "source": [
    "configs = {\n",
    "  \"fs.azure.account.auth.type\": \"CustomAccessToken\",\n",
    "  \"fs.azure.account.custom.token.provider.class\": spark.conf.get(\"spark.databricks.passthrough.adls.gen2.tokenProviderClassName\")\n",
    "}\n",
    "\n",
    "# Optionally, you can add <directory-name> to the source URI of your mount point.\n",
    "dbutils.fs.mount(\n",
    "  source = \"abfss://secondleveltransformation@gbdatalakegen2.dfs.core.windows.net/\",\n",
    "  mount_point = \"/mnt/secondleveltransformation\",\n",
    "  extra_configs = configs)"
   ]
  }
 ],
 "metadata": {
  "application/vnd.databricks.v1+notebook": {
   "dashboards": [],
   "environmentMetadata": null,
   "language": "python",
   "notebookMetadata": {
    "pythonIndentUnit": 4
   },
   "notebookName": "storagemount",
   "widgets": {}
  }
 },
 "nbformat": 4,
 "nbformat_minor": 0
}
